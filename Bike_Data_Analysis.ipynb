{
  "nbformat": 4,
  "nbformat_minor": 0,
  "metadata": {
    "colab": {
      "provenance": []
    },
    "kernelspec": {
      "name": "python3",
      "display_name": "Python 3"
    },
    "language_info": {
      "name": "python"
    }
  },
  "cells": [
    {
      "cell_type": "code",
      "execution_count": 3,
      "metadata": {
        "id": "OWTbHo-k6EKU"
      },
      "outputs": [],
      "source": [
        "import pandas as pd"
      ]
    },
    {
      "cell_type": "code",
      "source": [
        "df = pd.read_csv(\"/content/BIKE DETAILS.csv\")\n"
      ],
      "metadata": {
        "id": "Gd8miT4e6hje"
      },
      "execution_count": 4,
      "outputs": []
    },
    {
      "cell_type": "code",
      "source": [
        "df"
      ],
      "metadata": {
        "colab": {
          "base_uri": "https://localhost:8080/",
          "height": 424
        },
        "id": "eiyAmN4pJFGI",
        "outputId": "a88fc0d0-9e34-41e9-be91-3dc2105004db"
      },
      "execution_count": 5,
      "outputs": [
        {
          "output_type": "execute_result",
          "data": {
            "text/plain": [
              "                                     name  selling_price  year seller_type  \\\n",
              "0               Royal Enfield Classic 350         175000  2019  Individual   \n",
              "1                               Honda Dio          45000  2017  Individual   \n",
              "2     Royal Enfield Classic Gunmetal Grey         150000  2018  Individual   \n",
              "3       Yamaha Fazer FI V 2.0 [2016-2018]          65000  2015  Individual   \n",
              "4                   Yamaha SZ [2013-2014]          20000  2011  Individual   \n",
              "...                                   ...            ...   ...         ...   \n",
              "1056                            Activa 3g          17000  2010  Individual   \n",
              "1057                     Honda CB twister          16000  2012  Individual   \n",
              "1058                   Bajaj Discover 125          15000  2013  Individual   \n",
              "1059                       Honda CB Shine          12000  2009  Individual   \n",
              "1060                     Bajaj Pulsar 150          10000  2008  Individual   \n",
              "\n",
              "          owner  km_driven  ex_showroom_price  \n",
              "0     1st owner        350                NaN  \n",
              "1     1st owner       5650                NaN  \n",
              "2     1st owner      12000           148114.0  \n",
              "3     1st owner      23000            89643.0  \n",
              "4     2nd owner      21000                NaN  \n",
              "...         ...        ...                ...  \n",
              "1056  1st owner     500000            52000.0  \n",
              "1057  1st owner      33000            51000.0  \n",
              "1058  2nd owner      35000            57000.0  \n",
              "1059  1st owner      53000            58000.0  \n",
              "1060  1st owner      92233            75000.0  \n",
              "\n",
              "[1061 rows x 7 columns]"
            ],
            "text/html": [
              "\n",
              "  <div id=\"df-f351141a-d567-4dab-895c-08d9aa378a4e\" class=\"colab-df-container\">\n",
              "    <div>\n",
              "<style scoped>\n",
              "    .dataframe tbody tr th:only-of-type {\n",
              "        vertical-align: middle;\n",
              "    }\n",
              "\n",
              "    .dataframe tbody tr th {\n",
              "        vertical-align: top;\n",
              "    }\n",
              "\n",
              "    .dataframe thead th {\n",
              "        text-align: right;\n",
              "    }\n",
              "</style>\n",
              "<table border=\"1\" class=\"dataframe\">\n",
              "  <thead>\n",
              "    <tr style=\"text-align: right;\">\n",
              "      <th></th>\n",
              "      <th>name</th>\n",
              "      <th>selling_price</th>\n",
              "      <th>year</th>\n",
              "      <th>seller_type</th>\n",
              "      <th>owner</th>\n",
              "      <th>km_driven</th>\n",
              "      <th>ex_showroom_price</th>\n",
              "    </tr>\n",
              "  </thead>\n",
              "  <tbody>\n",
              "    <tr>\n",
              "      <th>0</th>\n",
              "      <td>Royal Enfield Classic 350</td>\n",
              "      <td>175000</td>\n",
              "      <td>2019</td>\n",
              "      <td>Individual</td>\n",
              "      <td>1st owner</td>\n",
              "      <td>350</td>\n",
              "      <td>NaN</td>\n",
              "    </tr>\n",
              "    <tr>\n",
              "      <th>1</th>\n",
              "      <td>Honda Dio</td>\n",
              "      <td>45000</td>\n",
              "      <td>2017</td>\n",
              "      <td>Individual</td>\n",
              "      <td>1st owner</td>\n",
              "      <td>5650</td>\n",
              "      <td>NaN</td>\n",
              "    </tr>\n",
              "    <tr>\n",
              "      <th>2</th>\n",
              "      <td>Royal Enfield Classic Gunmetal Grey</td>\n",
              "      <td>150000</td>\n",
              "      <td>2018</td>\n",
              "      <td>Individual</td>\n",
              "      <td>1st owner</td>\n",
              "      <td>12000</td>\n",
              "      <td>148114.0</td>\n",
              "    </tr>\n",
              "    <tr>\n",
              "      <th>3</th>\n",
              "      <td>Yamaha Fazer FI V 2.0 [2016-2018]</td>\n",
              "      <td>65000</td>\n",
              "      <td>2015</td>\n",
              "      <td>Individual</td>\n",
              "      <td>1st owner</td>\n",
              "      <td>23000</td>\n",
              "      <td>89643.0</td>\n",
              "    </tr>\n",
              "    <tr>\n",
              "      <th>4</th>\n",
              "      <td>Yamaha SZ [2013-2014]</td>\n",
              "      <td>20000</td>\n",
              "      <td>2011</td>\n",
              "      <td>Individual</td>\n",
              "      <td>2nd owner</td>\n",
              "      <td>21000</td>\n",
              "      <td>NaN</td>\n",
              "    </tr>\n",
              "    <tr>\n",
              "      <th>...</th>\n",
              "      <td>...</td>\n",
              "      <td>...</td>\n",
              "      <td>...</td>\n",
              "      <td>...</td>\n",
              "      <td>...</td>\n",
              "      <td>...</td>\n",
              "      <td>...</td>\n",
              "    </tr>\n",
              "    <tr>\n",
              "      <th>1056</th>\n",
              "      <td>Activa 3g</td>\n",
              "      <td>17000</td>\n",
              "      <td>2010</td>\n",
              "      <td>Individual</td>\n",
              "      <td>1st owner</td>\n",
              "      <td>500000</td>\n",
              "      <td>52000.0</td>\n",
              "    </tr>\n",
              "    <tr>\n",
              "      <th>1057</th>\n",
              "      <td>Honda CB twister</td>\n",
              "      <td>16000</td>\n",
              "      <td>2012</td>\n",
              "      <td>Individual</td>\n",
              "      <td>1st owner</td>\n",
              "      <td>33000</td>\n",
              "      <td>51000.0</td>\n",
              "    </tr>\n",
              "    <tr>\n",
              "      <th>1058</th>\n",
              "      <td>Bajaj Discover 125</td>\n",
              "      <td>15000</td>\n",
              "      <td>2013</td>\n",
              "      <td>Individual</td>\n",
              "      <td>2nd owner</td>\n",
              "      <td>35000</td>\n",
              "      <td>57000.0</td>\n",
              "    </tr>\n",
              "    <tr>\n",
              "      <th>1059</th>\n",
              "      <td>Honda CB Shine</td>\n",
              "      <td>12000</td>\n",
              "      <td>2009</td>\n",
              "      <td>Individual</td>\n",
              "      <td>1st owner</td>\n",
              "      <td>53000</td>\n",
              "      <td>58000.0</td>\n",
              "    </tr>\n",
              "    <tr>\n",
              "      <th>1060</th>\n",
              "      <td>Bajaj Pulsar 150</td>\n",
              "      <td>10000</td>\n",
              "      <td>2008</td>\n",
              "      <td>Individual</td>\n",
              "      <td>1st owner</td>\n",
              "      <td>92233</td>\n",
              "      <td>75000.0</td>\n",
              "    </tr>\n",
              "  </tbody>\n",
              "</table>\n",
              "<p>1061 rows × 7 columns</p>\n",
              "</div>\n",
              "    <div class=\"colab-df-buttons\">\n",
              "\n",
              "  <div class=\"colab-df-container\">\n",
              "    <button class=\"colab-df-convert\" onclick=\"convertToInteractive('df-f351141a-d567-4dab-895c-08d9aa378a4e')\"\n",
              "            title=\"Convert this dataframe to an interactive table.\"\n",
              "            style=\"display:none;\">\n",
              "\n",
              "  <svg xmlns=\"http://www.w3.org/2000/svg\" height=\"24px\" viewBox=\"0 -960 960 960\">\n",
              "    <path d=\"M120-120v-720h720v720H120Zm60-500h600v-160H180v160Zm220 220h160v-160H400v160Zm0 220h160v-160H400v160ZM180-400h160v-160H180v160Zm440 0h160v-160H620v160ZM180-180h160v-160H180v160Zm440 0h160v-160H620v160Z\"/>\n",
              "  </svg>\n",
              "    </button>\n",
              "\n",
              "  <style>\n",
              "    .colab-df-container {\n",
              "      display:flex;\n",
              "      gap: 12px;\n",
              "    }\n",
              "\n",
              "    .colab-df-convert {\n",
              "      background-color: #E8F0FE;\n",
              "      border: none;\n",
              "      border-radius: 50%;\n",
              "      cursor: pointer;\n",
              "      display: none;\n",
              "      fill: #1967D2;\n",
              "      height: 32px;\n",
              "      padding: 0 0 0 0;\n",
              "      width: 32px;\n",
              "    }\n",
              "\n",
              "    .colab-df-convert:hover {\n",
              "      background-color: #E2EBFA;\n",
              "      box-shadow: 0px 1px 2px rgba(60, 64, 67, 0.3), 0px 1px 3px 1px rgba(60, 64, 67, 0.15);\n",
              "      fill: #174EA6;\n",
              "    }\n",
              "\n",
              "    .colab-df-buttons div {\n",
              "      margin-bottom: 4px;\n",
              "    }\n",
              "\n",
              "    [theme=dark] .colab-df-convert {\n",
              "      background-color: #3B4455;\n",
              "      fill: #D2E3FC;\n",
              "    }\n",
              "\n",
              "    [theme=dark] .colab-df-convert:hover {\n",
              "      background-color: #434B5C;\n",
              "      box-shadow: 0px 1px 3px 1px rgba(0, 0, 0, 0.15);\n",
              "      filter: drop-shadow(0px 1px 2px rgba(0, 0, 0, 0.3));\n",
              "      fill: #FFFFFF;\n",
              "    }\n",
              "  </style>\n",
              "\n",
              "    <script>\n",
              "      const buttonEl =\n",
              "        document.querySelector('#df-f351141a-d567-4dab-895c-08d9aa378a4e button.colab-df-convert');\n",
              "      buttonEl.style.display =\n",
              "        google.colab.kernel.accessAllowed ? 'block' : 'none';\n",
              "\n",
              "      async function convertToInteractive(key) {\n",
              "        const element = document.querySelector('#df-f351141a-d567-4dab-895c-08d9aa378a4e');\n",
              "        const dataTable =\n",
              "          await google.colab.kernel.invokeFunction('convertToInteractive',\n",
              "                                                    [key], {});\n",
              "        if (!dataTable) return;\n",
              "\n",
              "        const docLinkHtml = 'Like what you see? Visit the ' +\n",
              "          '<a target=\"_blank\" href=https://colab.research.google.com/notebooks/data_table.ipynb>data table notebook</a>'\n",
              "          + ' to learn more about interactive tables.';\n",
              "        element.innerHTML = '';\n",
              "        dataTable['output_type'] = 'display_data';\n",
              "        await google.colab.output.renderOutput(dataTable, element);\n",
              "        const docLink = document.createElement('div');\n",
              "        docLink.innerHTML = docLinkHtml;\n",
              "        element.appendChild(docLink);\n",
              "      }\n",
              "    </script>\n",
              "  </div>\n",
              "\n",
              "\n",
              "<div id=\"df-66e7dc47-7abc-49f8-87ec-21526b3a392c\">\n",
              "  <button class=\"colab-df-quickchart\" onclick=\"quickchart('df-66e7dc47-7abc-49f8-87ec-21526b3a392c')\"\n",
              "            title=\"Suggest charts\"\n",
              "            style=\"display:none;\">\n",
              "\n",
              "<svg xmlns=\"http://www.w3.org/2000/svg\" height=\"24px\"viewBox=\"0 0 24 24\"\n",
              "     width=\"24px\">\n",
              "    <g>\n",
              "        <path d=\"M19 3H5c-1.1 0-2 .9-2 2v14c0 1.1.9 2 2 2h14c1.1 0 2-.9 2-2V5c0-1.1-.9-2-2-2zM9 17H7v-7h2v7zm4 0h-2V7h2v10zm4 0h-2v-4h2v4z\"/>\n",
              "    </g>\n",
              "</svg>\n",
              "  </button>\n",
              "\n",
              "<style>\n",
              "  .colab-df-quickchart {\n",
              "      --bg-color: #E8F0FE;\n",
              "      --fill-color: #1967D2;\n",
              "      --hover-bg-color: #E2EBFA;\n",
              "      --hover-fill-color: #174EA6;\n",
              "      --disabled-fill-color: #AAA;\n",
              "      --disabled-bg-color: #DDD;\n",
              "  }\n",
              "\n",
              "  [theme=dark] .colab-df-quickchart {\n",
              "      --bg-color: #3B4455;\n",
              "      --fill-color: #D2E3FC;\n",
              "      --hover-bg-color: #434B5C;\n",
              "      --hover-fill-color: #FFFFFF;\n",
              "      --disabled-bg-color: #3B4455;\n",
              "      --disabled-fill-color: #666;\n",
              "  }\n",
              "\n",
              "  .colab-df-quickchart {\n",
              "    background-color: var(--bg-color);\n",
              "    border: none;\n",
              "    border-radius: 50%;\n",
              "    cursor: pointer;\n",
              "    display: none;\n",
              "    fill: var(--fill-color);\n",
              "    height: 32px;\n",
              "    padding: 0;\n",
              "    width: 32px;\n",
              "  }\n",
              "\n",
              "  .colab-df-quickchart:hover {\n",
              "    background-color: var(--hover-bg-color);\n",
              "    box-shadow: 0 1px 2px rgba(60, 64, 67, 0.3), 0 1px 3px 1px rgba(60, 64, 67, 0.15);\n",
              "    fill: var(--button-hover-fill-color);\n",
              "  }\n",
              "\n",
              "  .colab-df-quickchart-complete:disabled,\n",
              "  .colab-df-quickchart-complete:disabled:hover {\n",
              "    background-color: var(--disabled-bg-color);\n",
              "    fill: var(--disabled-fill-color);\n",
              "    box-shadow: none;\n",
              "  }\n",
              "\n",
              "  .colab-df-spinner {\n",
              "    border: 2px solid var(--fill-color);\n",
              "    border-color: transparent;\n",
              "    border-bottom-color: var(--fill-color);\n",
              "    animation:\n",
              "      spin 1s steps(1) infinite;\n",
              "  }\n",
              "\n",
              "  @keyframes spin {\n",
              "    0% {\n",
              "      border-color: transparent;\n",
              "      border-bottom-color: var(--fill-color);\n",
              "      border-left-color: var(--fill-color);\n",
              "    }\n",
              "    20% {\n",
              "      border-color: transparent;\n",
              "      border-left-color: var(--fill-color);\n",
              "      border-top-color: var(--fill-color);\n",
              "    }\n",
              "    30% {\n",
              "      border-color: transparent;\n",
              "      border-left-color: var(--fill-color);\n",
              "      border-top-color: var(--fill-color);\n",
              "      border-right-color: var(--fill-color);\n",
              "    }\n",
              "    40% {\n",
              "      border-color: transparent;\n",
              "      border-right-color: var(--fill-color);\n",
              "      border-top-color: var(--fill-color);\n",
              "    }\n",
              "    60% {\n",
              "      border-color: transparent;\n",
              "      border-right-color: var(--fill-color);\n",
              "    }\n",
              "    80% {\n",
              "      border-color: transparent;\n",
              "      border-right-color: var(--fill-color);\n",
              "      border-bottom-color: var(--fill-color);\n",
              "    }\n",
              "    90% {\n",
              "      border-color: transparent;\n",
              "      border-bottom-color: var(--fill-color);\n",
              "    }\n",
              "  }\n",
              "</style>\n",
              "\n",
              "  <script>\n",
              "    async function quickchart(key) {\n",
              "      const quickchartButtonEl =\n",
              "        document.querySelector('#' + key + ' button');\n",
              "      quickchartButtonEl.disabled = true;  // To prevent multiple clicks.\n",
              "      quickchartButtonEl.classList.add('colab-df-spinner');\n",
              "      try {\n",
              "        const charts = await google.colab.kernel.invokeFunction(\n",
              "            'suggestCharts', [key], {});\n",
              "      } catch (error) {\n",
              "        console.error('Error during call to suggestCharts:', error);\n",
              "      }\n",
              "      quickchartButtonEl.classList.remove('colab-df-spinner');\n",
              "      quickchartButtonEl.classList.add('colab-df-quickchart-complete');\n",
              "    }\n",
              "    (() => {\n",
              "      let quickchartButtonEl =\n",
              "        document.querySelector('#df-66e7dc47-7abc-49f8-87ec-21526b3a392c button');\n",
              "      quickchartButtonEl.style.display =\n",
              "        google.colab.kernel.accessAllowed ? 'block' : 'none';\n",
              "    })();\n",
              "  </script>\n",
              "</div>\n",
              "\n",
              "  <div id=\"id_8b9fbe30-907c-4f1b-b1c2-bdd00bf496f8\">\n",
              "    <style>\n",
              "      .colab-df-generate {\n",
              "        background-color: #E8F0FE;\n",
              "        border: none;\n",
              "        border-radius: 50%;\n",
              "        cursor: pointer;\n",
              "        display: none;\n",
              "        fill: #1967D2;\n",
              "        height: 32px;\n",
              "        padding: 0 0 0 0;\n",
              "        width: 32px;\n",
              "      }\n",
              "\n",
              "      .colab-df-generate:hover {\n",
              "        background-color: #E2EBFA;\n",
              "        box-shadow: 0px 1px 2px rgba(60, 64, 67, 0.3), 0px 1px 3px 1px rgba(60, 64, 67, 0.15);\n",
              "        fill: #174EA6;\n",
              "      }\n",
              "\n",
              "      [theme=dark] .colab-df-generate {\n",
              "        background-color: #3B4455;\n",
              "        fill: #D2E3FC;\n",
              "      }\n",
              "\n",
              "      [theme=dark] .colab-df-generate:hover {\n",
              "        background-color: #434B5C;\n",
              "        box-shadow: 0px 1px 3px 1px rgba(0, 0, 0, 0.15);\n",
              "        filter: drop-shadow(0px 1px 2px rgba(0, 0, 0, 0.3));\n",
              "        fill: #FFFFFF;\n",
              "      }\n",
              "    </style>\n",
              "    <button class=\"colab-df-generate\" onclick=\"generateWithVariable('df')\"\n",
              "            title=\"Generate code using this dataframe.\"\n",
              "            style=\"display:none;\">\n",
              "\n",
              "  <svg xmlns=\"http://www.w3.org/2000/svg\" height=\"24px\"viewBox=\"0 0 24 24\"\n",
              "       width=\"24px\">\n",
              "    <path d=\"M7,19H8.4L18.45,9,17,7.55,7,17.6ZM5,21V16.75L18.45,3.32a2,2,0,0,1,2.83,0l1.4,1.43a1.91,1.91,0,0,1,.58,1.4,1.91,1.91,0,0,1-.58,1.4L9.25,21ZM18.45,9,17,7.55Zm-12,3A5.31,5.31,0,0,0,4.9,8.1,5.31,5.31,0,0,0,1,6.5,5.31,5.31,0,0,0,4.9,4.9,5.31,5.31,0,0,0,6.5,1,5.31,5.31,0,0,0,8.1,4.9,5.31,5.31,0,0,0,12,6.5,5.46,5.46,0,0,0,6.5,12Z\"/>\n",
              "  </svg>\n",
              "    </button>\n",
              "    <script>\n",
              "      (() => {\n",
              "      const buttonEl =\n",
              "        document.querySelector('#id_8b9fbe30-907c-4f1b-b1c2-bdd00bf496f8 button.colab-df-generate');\n",
              "      buttonEl.style.display =\n",
              "        google.colab.kernel.accessAllowed ? 'block' : 'none';\n",
              "\n",
              "      buttonEl.onclick = () => {\n",
              "        google.colab.notebook.generateWithVariable('df');\n",
              "      }\n",
              "      })();\n",
              "    </script>\n",
              "  </div>\n",
              "\n",
              "    </div>\n",
              "  </div>\n"
            ],
            "application/vnd.google.colaboratory.intrinsic+json": {
              "type": "dataframe",
              "variable_name": "df",
              "summary": "{\n  \"name\": \"df\",\n  \"rows\": 1061,\n  \"fields\": [\n    {\n      \"column\": \"name\",\n      \"properties\": {\n        \"dtype\": \"category\",\n        \"num_unique_values\": 279,\n        \"samples\": [\n          \"Hero Xtreme Sports\",\n          \"Hero Honda Passion\",\n          \"TVS Streak\"\n        ],\n        \"semantic_type\": \"\",\n        \"description\": \"\"\n      }\n    },\n    {\n      \"column\": \"selling_price\",\n      \"properties\": {\n        \"dtype\": \"number\",\n        \"std\": 56304,\n        \"min\": 5000,\n        \"max\": 760000,\n        \"num_unique_values\": 130,\n        \"samples\": [\n          72000,\n          160000,\n          26000\n        ],\n        \"semantic_type\": \"\",\n        \"description\": \"\"\n      }\n    },\n    {\n      \"column\": \"year\",\n      \"properties\": {\n        \"dtype\": \"number\",\n        \"std\": 4,\n        \"min\": 1988,\n        \"max\": 2020,\n        \"num_unique_values\": 28,\n        \"samples\": [\n          2012,\n          2003,\n          2020\n        ],\n        \"semantic_type\": \"\",\n        \"description\": \"\"\n      }\n    },\n    {\n      \"column\": \"seller_type\",\n      \"properties\": {\n        \"dtype\": \"category\",\n        \"num_unique_values\": 2,\n        \"samples\": [\n          \"Dealer\",\n          \"Individual\"\n        ],\n        \"semantic_type\": \"\",\n        \"description\": \"\"\n      }\n    },\n    {\n      \"column\": \"owner\",\n      \"properties\": {\n        \"dtype\": \"category\",\n        \"num_unique_values\": 4,\n        \"samples\": [\n          \"2nd owner\",\n          \"4th owner\"\n        ],\n        \"semantic_type\": \"\",\n        \"description\": \"\"\n      }\n    },\n    {\n      \"column\": \"km_driven\",\n      \"properties\": {\n        \"dtype\": \"number\",\n        \"std\": 51623,\n        \"min\": 350,\n        \"max\": 880000,\n        \"num_unique_values\": 304,\n        \"samples\": [\n          19500,\n          11500\n        ],\n        \"semantic_type\": \"\",\n        \"description\": \"\"\n      }\n    },\n    {\n      \"column\": \"ex_showroom_price\",\n      \"properties\": {\n        \"dtype\": \"number\",\n        \"std\": 77496.58718945317,\n        \"min\": 30490.0,\n        \"max\": 1278000.0,\n        \"num_unique_values\": 230,\n        \"samples\": [\n          54000.0,\n          64589.0\n        ],\n        \"semantic_type\": \"\",\n        \"description\": \"\"\n      }\n    }\n  ]\n}"
            }
          },
          "metadata": {},
          "execution_count": 5
        }
      ]
    },
    {
      "cell_type": "code",
      "source": [
        "print(df.info()) #that shows how many coulums holds the null value and the type of data\n",
        "print(df.describe())\n"
      ],
      "metadata": {
        "colab": {
          "base_uri": "https://localhost:8080/"
        },
        "id": "nRekBYiESP4p",
        "outputId": "3925e7b2-2e45-48bb-a9c8-eff98db57180"
      },
      "execution_count": null,
      "outputs": [
        {
          "output_type": "stream",
          "name": "stdout",
          "text": [
            "<class 'pandas.core.frame.DataFrame'>\n",
            "RangeIndex: 1061 entries, 0 to 1060\n",
            "Data columns (total 7 columns):\n",
            " #   Column             Non-Null Count  Dtype  \n",
            "---  ------             --------------  -----  \n",
            " 0   name               1061 non-null   object \n",
            " 1   selling_price      1061 non-null   int64  \n",
            " 2   year               1061 non-null   int64  \n",
            " 3   seller_type        1061 non-null   object \n",
            " 4   owner              1061 non-null   object \n",
            " 5   km_driven          1061 non-null   int64  \n",
            " 6   ex_showroom_price  626 non-null    float64\n",
            "dtypes: float64(1), int64(3), object(3)\n",
            "memory usage: 58.2+ KB\n",
            "None\n",
            "       selling_price         year      km_driven  ex_showroom_price\n",
            "count    1061.000000  1061.000000    1061.000000       6.260000e+02\n",
            "mean    59638.151744  2013.867107   34359.833176       8.795871e+04\n",
            "std     56304.291973     4.301191   51623.152702       7.749659e+04\n",
            "min      5000.000000  1988.000000     350.000000       3.049000e+04\n",
            "25%     28000.000000  2011.000000   13500.000000       5.485200e+04\n",
            "50%     45000.000000  2015.000000   25000.000000       7.275250e+04\n",
            "75%     70000.000000  2017.000000   43000.000000       8.703150e+04\n",
            "max    760000.000000  2020.000000  880000.000000       1.278000e+06\n"
          ]
        }
      ]
    },
    {
      "cell_type": "markdown",
      "source": [
        "**Data Cleaning**"
      ],
      "metadata": {
        "id": "DtMNkOovpRRd"
      }
    },
    {
      "cell_type": "code",
      "source": [
        "df.columns = df.columns.str.strip()"
      ],
      "metadata": {
        "id": "yWOETk12pZfA"
      },
      "execution_count": 6,
      "outputs": []
    },
    {
      "cell_type": "code",
      "source": [
        "ex_showroom_price = df['ex_showroom_price'].median()\n",
        "df['ex_showroom_price'] = df['ex_showroom_price'].fillna(ex_showroom_price)\n",
        "\n",
        "# Show cleaned dataset info and first few rows\n",
        "cleaned_info =df.info()\n",
        "cleaned_sample = df.head()\n",
        "\n",
        "cleaned_info, cleaned_sample"
      ],
      "metadata": {
        "colab": {
          "base_uri": "https://localhost:8080/"
        },
        "id": "mxIZ8e68rANa",
        "outputId": "2b725c9b-bf13-4751-f45c-f3609590337e"
      },
      "execution_count": 7,
      "outputs": [
        {
          "output_type": "stream",
          "name": "stdout",
          "text": [
            "<class 'pandas.core.frame.DataFrame'>\n",
            "RangeIndex: 1061 entries, 0 to 1060\n",
            "Data columns (total 7 columns):\n",
            " #   Column             Non-Null Count  Dtype  \n",
            "---  ------             --------------  -----  \n",
            " 0   name               1061 non-null   object \n",
            " 1   selling_price      1061 non-null   int64  \n",
            " 2   year               1061 non-null   int64  \n",
            " 3   seller_type        1061 non-null   object \n",
            " 4   owner              1061 non-null   object \n",
            " 5   km_driven          1061 non-null   int64  \n",
            " 6   ex_showroom_price  1061 non-null   float64\n",
            "dtypes: float64(1), int64(3), object(3)\n",
            "memory usage: 58.2+ KB\n"
          ]
        },
        {
          "output_type": "execute_result",
          "data": {
            "text/plain": [
              "(None,\n",
              "                                   name  selling_price  year seller_type  \\\n",
              " 0            Royal Enfield Classic 350         175000  2019  Individual   \n",
              " 1                            Honda Dio          45000  2017  Individual   \n",
              " 2  Royal Enfield Classic Gunmetal Grey         150000  2018  Individual   \n",
              " 3    Yamaha Fazer FI V 2.0 [2016-2018]          65000  2015  Individual   \n",
              " 4                Yamaha SZ [2013-2014]          20000  2011  Individual   \n",
              " \n",
              "        owner  km_driven  ex_showroom_price  \n",
              " 0  1st owner        350            72752.5  \n",
              " 1  1st owner       5650            72752.5  \n",
              " 2  1st owner      12000           148114.0  \n",
              " 3  1st owner      23000            89643.0  \n",
              " 4  2nd owner      21000            72752.5  )"
            ]
          },
          "metadata": {},
          "execution_count": 7
        }
      ]
    },
    {
      "cell_type": "code",
      "source": [
        "df\n"
      ],
      "metadata": {
        "colab": {
          "base_uri": "https://localhost:8080/",
          "height": 424
        },
        "id": "pF_0EfQpr-s4",
        "outputId": "df20c064-89ee-4e33-ebcc-8e656ed85ee3"
      },
      "execution_count": 8,
      "outputs": [
        {
          "output_type": "execute_result",
          "data": {
            "text/plain": [
              "                                     name  selling_price  year seller_type  \\\n",
              "0               Royal Enfield Classic 350         175000  2019  Individual   \n",
              "1                               Honda Dio          45000  2017  Individual   \n",
              "2     Royal Enfield Classic Gunmetal Grey         150000  2018  Individual   \n",
              "3       Yamaha Fazer FI V 2.0 [2016-2018]          65000  2015  Individual   \n",
              "4                   Yamaha SZ [2013-2014]          20000  2011  Individual   \n",
              "...                                   ...            ...   ...         ...   \n",
              "1056                            Activa 3g          17000  2010  Individual   \n",
              "1057                     Honda CB twister          16000  2012  Individual   \n",
              "1058                   Bajaj Discover 125          15000  2013  Individual   \n",
              "1059                       Honda CB Shine          12000  2009  Individual   \n",
              "1060                     Bajaj Pulsar 150          10000  2008  Individual   \n",
              "\n",
              "          owner  km_driven  ex_showroom_price  \n",
              "0     1st owner        350            72752.5  \n",
              "1     1st owner       5650            72752.5  \n",
              "2     1st owner      12000           148114.0  \n",
              "3     1st owner      23000            89643.0  \n",
              "4     2nd owner      21000            72752.5  \n",
              "...         ...        ...                ...  \n",
              "1056  1st owner     500000            52000.0  \n",
              "1057  1st owner      33000            51000.0  \n",
              "1058  2nd owner      35000            57000.0  \n",
              "1059  1st owner      53000            58000.0  \n",
              "1060  1st owner      92233            75000.0  \n",
              "\n",
              "[1061 rows x 7 columns]"
            ],
            "text/html": [
              "\n",
              "  <div id=\"df-397715d0-6d24-4d02-a70a-a3dfc4d55b4e\" class=\"colab-df-container\">\n",
              "    <div>\n",
              "<style scoped>\n",
              "    .dataframe tbody tr th:only-of-type {\n",
              "        vertical-align: middle;\n",
              "    }\n",
              "\n",
              "    .dataframe tbody tr th {\n",
              "        vertical-align: top;\n",
              "    }\n",
              "\n",
              "    .dataframe thead th {\n",
              "        text-align: right;\n",
              "    }\n",
              "</style>\n",
              "<table border=\"1\" class=\"dataframe\">\n",
              "  <thead>\n",
              "    <tr style=\"text-align: right;\">\n",
              "      <th></th>\n",
              "      <th>name</th>\n",
              "      <th>selling_price</th>\n",
              "      <th>year</th>\n",
              "      <th>seller_type</th>\n",
              "      <th>owner</th>\n",
              "      <th>km_driven</th>\n",
              "      <th>ex_showroom_price</th>\n",
              "    </tr>\n",
              "  </thead>\n",
              "  <tbody>\n",
              "    <tr>\n",
              "      <th>0</th>\n",
              "      <td>Royal Enfield Classic 350</td>\n",
              "      <td>175000</td>\n",
              "      <td>2019</td>\n",
              "      <td>Individual</td>\n",
              "      <td>1st owner</td>\n",
              "      <td>350</td>\n",
              "      <td>72752.5</td>\n",
              "    </tr>\n",
              "    <tr>\n",
              "      <th>1</th>\n",
              "      <td>Honda Dio</td>\n",
              "      <td>45000</td>\n",
              "      <td>2017</td>\n",
              "      <td>Individual</td>\n",
              "      <td>1st owner</td>\n",
              "      <td>5650</td>\n",
              "      <td>72752.5</td>\n",
              "    </tr>\n",
              "    <tr>\n",
              "      <th>2</th>\n",
              "      <td>Royal Enfield Classic Gunmetal Grey</td>\n",
              "      <td>150000</td>\n",
              "      <td>2018</td>\n",
              "      <td>Individual</td>\n",
              "      <td>1st owner</td>\n",
              "      <td>12000</td>\n",
              "      <td>148114.0</td>\n",
              "    </tr>\n",
              "    <tr>\n",
              "      <th>3</th>\n",
              "      <td>Yamaha Fazer FI V 2.0 [2016-2018]</td>\n",
              "      <td>65000</td>\n",
              "      <td>2015</td>\n",
              "      <td>Individual</td>\n",
              "      <td>1st owner</td>\n",
              "      <td>23000</td>\n",
              "      <td>89643.0</td>\n",
              "    </tr>\n",
              "    <tr>\n",
              "      <th>4</th>\n",
              "      <td>Yamaha SZ [2013-2014]</td>\n",
              "      <td>20000</td>\n",
              "      <td>2011</td>\n",
              "      <td>Individual</td>\n",
              "      <td>2nd owner</td>\n",
              "      <td>21000</td>\n",
              "      <td>72752.5</td>\n",
              "    </tr>\n",
              "    <tr>\n",
              "      <th>...</th>\n",
              "      <td>...</td>\n",
              "      <td>...</td>\n",
              "      <td>...</td>\n",
              "      <td>...</td>\n",
              "      <td>...</td>\n",
              "      <td>...</td>\n",
              "      <td>...</td>\n",
              "    </tr>\n",
              "    <tr>\n",
              "      <th>1056</th>\n",
              "      <td>Activa 3g</td>\n",
              "      <td>17000</td>\n",
              "      <td>2010</td>\n",
              "      <td>Individual</td>\n",
              "      <td>1st owner</td>\n",
              "      <td>500000</td>\n",
              "      <td>52000.0</td>\n",
              "    </tr>\n",
              "    <tr>\n",
              "      <th>1057</th>\n",
              "      <td>Honda CB twister</td>\n",
              "      <td>16000</td>\n",
              "      <td>2012</td>\n",
              "      <td>Individual</td>\n",
              "      <td>1st owner</td>\n",
              "      <td>33000</td>\n",
              "      <td>51000.0</td>\n",
              "    </tr>\n",
              "    <tr>\n",
              "      <th>1058</th>\n",
              "      <td>Bajaj Discover 125</td>\n",
              "      <td>15000</td>\n",
              "      <td>2013</td>\n",
              "      <td>Individual</td>\n",
              "      <td>2nd owner</td>\n",
              "      <td>35000</td>\n",
              "      <td>57000.0</td>\n",
              "    </tr>\n",
              "    <tr>\n",
              "      <th>1059</th>\n",
              "      <td>Honda CB Shine</td>\n",
              "      <td>12000</td>\n",
              "      <td>2009</td>\n",
              "      <td>Individual</td>\n",
              "      <td>1st owner</td>\n",
              "      <td>53000</td>\n",
              "      <td>58000.0</td>\n",
              "    </tr>\n",
              "    <tr>\n",
              "      <th>1060</th>\n",
              "      <td>Bajaj Pulsar 150</td>\n",
              "      <td>10000</td>\n",
              "      <td>2008</td>\n",
              "      <td>Individual</td>\n",
              "      <td>1st owner</td>\n",
              "      <td>92233</td>\n",
              "      <td>75000.0</td>\n",
              "    </tr>\n",
              "  </tbody>\n",
              "</table>\n",
              "<p>1061 rows × 7 columns</p>\n",
              "</div>\n",
              "    <div class=\"colab-df-buttons\">\n",
              "\n",
              "  <div class=\"colab-df-container\">\n",
              "    <button class=\"colab-df-convert\" onclick=\"convertToInteractive('df-397715d0-6d24-4d02-a70a-a3dfc4d55b4e')\"\n",
              "            title=\"Convert this dataframe to an interactive table.\"\n",
              "            style=\"display:none;\">\n",
              "\n",
              "  <svg xmlns=\"http://www.w3.org/2000/svg\" height=\"24px\" viewBox=\"0 -960 960 960\">\n",
              "    <path d=\"M120-120v-720h720v720H120Zm60-500h600v-160H180v160Zm220 220h160v-160H400v160Zm0 220h160v-160H400v160ZM180-400h160v-160H180v160Zm440 0h160v-160H620v160ZM180-180h160v-160H180v160Zm440 0h160v-160H620v160Z\"/>\n",
              "  </svg>\n",
              "    </button>\n",
              "\n",
              "  <style>\n",
              "    .colab-df-container {\n",
              "      display:flex;\n",
              "      gap: 12px;\n",
              "    }\n",
              "\n",
              "    .colab-df-convert {\n",
              "      background-color: #E8F0FE;\n",
              "      border: none;\n",
              "      border-radius: 50%;\n",
              "      cursor: pointer;\n",
              "      display: none;\n",
              "      fill: #1967D2;\n",
              "      height: 32px;\n",
              "      padding: 0 0 0 0;\n",
              "      width: 32px;\n",
              "    }\n",
              "\n",
              "    .colab-df-convert:hover {\n",
              "      background-color: #E2EBFA;\n",
              "      box-shadow: 0px 1px 2px rgba(60, 64, 67, 0.3), 0px 1px 3px 1px rgba(60, 64, 67, 0.15);\n",
              "      fill: #174EA6;\n",
              "    }\n",
              "\n",
              "    .colab-df-buttons div {\n",
              "      margin-bottom: 4px;\n",
              "    }\n",
              "\n",
              "    [theme=dark] .colab-df-convert {\n",
              "      background-color: #3B4455;\n",
              "      fill: #D2E3FC;\n",
              "    }\n",
              "\n",
              "    [theme=dark] .colab-df-convert:hover {\n",
              "      background-color: #434B5C;\n",
              "      box-shadow: 0px 1px 3px 1px rgba(0, 0, 0, 0.15);\n",
              "      filter: drop-shadow(0px 1px 2px rgba(0, 0, 0, 0.3));\n",
              "      fill: #FFFFFF;\n",
              "    }\n",
              "  </style>\n",
              "\n",
              "    <script>\n",
              "      const buttonEl =\n",
              "        document.querySelector('#df-397715d0-6d24-4d02-a70a-a3dfc4d55b4e button.colab-df-convert');\n",
              "      buttonEl.style.display =\n",
              "        google.colab.kernel.accessAllowed ? 'block' : 'none';\n",
              "\n",
              "      async function convertToInteractive(key) {\n",
              "        const element = document.querySelector('#df-397715d0-6d24-4d02-a70a-a3dfc4d55b4e');\n",
              "        const dataTable =\n",
              "          await google.colab.kernel.invokeFunction('convertToInteractive',\n",
              "                                                    [key], {});\n",
              "        if (!dataTable) return;\n",
              "\n",
              "        const docLinkHtml = 'Like what you see? Visit the ' +\n",
              "          '<a target=\"_blank\" href=https://colab.research.google.com/notebooks/data_table.ipynb>data table notebook</a>'\n",
              "          + ' to learn more about interactive tables.';\n",
              "        element.innerHTML = '';\n",
              "        dataTable['output_type'] = 'display_data';\n",
              "        await google.colab.output.renderOutput(dataTable, element);\n",
              "        const docLink = document.createElement('div');\n",
              "        docLink.innerHTML = docLinkHtml;\n",
              "        element.appendChild(docLink);\n",
              "      }\n",
              "    </script>\n",
              "  </div>\n",
              "\n",
              "\n",
              "<div id=\"df-69d6c36e-368c-4d23-9dc4-b0d721f5008f\">\n",
              "  <button class=\"colab-df-quickchart\" onclick=\"quickchart('df-69d6c36e-368c-4d23-9dc4-b0d721f5008f')\"\n",
              "            title=\"Suggest charts\"\n",
              "            style=\"display:none;\">\n",
              "\n",
              "<svg xmlns=\"http://www.w3.org/2000/svg\" height=\"24px\"viewBox=\"0 0 24 24\"\n",
              "     width=\"24px\">\n",
              "    <g>\n",
              "        <path d=\"M19 3H5c-1.1 0-2 .9-2 2v14c0 1.1.9 2 2 2h14c1.1 0 2-.9 2-2V5c0-1.1-.9-2-2-2zM9 17H7v-7h2v7zm4 0h-2V7h2v10zm4 0h-2v-4h2v4z\"/>\n",
              "    </g>\n",
              "</svg>\n",
              "  </button>\n",
              "\n",
              "<style>\n",
              "  .colab-df-quickchart {\n",
              "      --bg-color: #E8F0FE;\n",
              "      --fill-color: #1967D2;\n",
              "      --hover-bg-color: #E2EBFA;\n",
              "      --hover-fill-color: #174EA6;\n",
              "      --disabled-fill-color: #AAA;\n",
              "      --disabled-bg-color: #DDD;\n",
              "  }\n",
              "\n",
              "  [theme=dark] .colab-df-quickchart {\n",
              "      --bg-color: #3B4455;\n",
              "      --fill-color: #D2E3FC;\n",
              "      --hover-bg-color: #434B5C;\n",
              "      --hover-fill-color: #FFFFFF;\n",
              "      --disabled-bg-color: #3B4455;\n",
              "      --disabled-fill-color: #666;\n",
              "  }\n",
              "\n",
              "  .colab-df-quickchart {\n",
              "    background-color: var(--bg-color);\n",
              "    border: none;\n",
              "    border-radius: 50%;\n",
              "    cursor: pointer;\n",
              "    display: none;\n",
              "    fill: var(--fill-color);\n",
              "    height: 32px;\n",
              "    padding: 0;\n",
              "    width: 32px;\n",
              "  }\n",
              "\n",
              "  .colab-df-quickchart:hover {\n",
              "    background-color: var(--hover-bg-color);\n",
              "    box-shadow: 0 1px 2px rgba(60, 64, 67, 0.3), 0 1px 3px 1px rgba(60, 64, 67, 0.15);\n",
              "    fill: var(--button-hover-fill-color);\n",
              "  }\n",
              "\n",
              "  .colab-df-quickchart-complete:disabled,\n",
              "  .colab-df-quickchart-complete:disabled:hover {\n",
              "    background-color: var(--disabled-bg-color);\n",
              "    fill: var(--disabled-fill-color);\n",
              "    box-shadow: none;\n",
              "  }\n",
              "\n",
              "  .colab-df-spinner {\n",
              "    border: 2px solid var(--fill-color);\n",
              "    border-color: transparent;\n",
              "    border-bottom-color: var(--fill-color);\n",
              "    animation:\n",
              "      spin 1s steps(1) infinite;\n",
              "  }\n",
              "\n",
              "  @keyframes spin {\n",
              "    0% {\n",
              "      border-color: transparent;\n",
              "      border-bottom-color: var(--fill-color);\n",
              "      border-left-color: var(--fill-color);\n",
              "    }\n",
              "    20% {\n",
              "      border-color: transparent;\n",
              "      border-left-color: var(--fill-color);\n",
              "      border-top-color: var(--fill-color);\n",
              "    }\n",
              "    30% {\n",
              "      border-color: transparent;\n",
              "      border-left-color: var(--fill-color);\n",
              "      border-top-color: var(--fill-color);\n",
              "      border-right-color: var(--fill-color);\n",
              "    }\n",
              "    40% {\n",
              "      border-color: transparent;\n",
              "      border-right-color: var(--fill-color);\n",
              "      border-top-color: var(--fill-color);\n",
              "    }\n",
              "    60% {\n",
              "      border-color: transparent;\n",
              "      border-right-color: var(--fill-color);\n",
              "    }\n",
              "    80% {\n",
              "      border-color: transparent;\n",
              "      border-right-color: var(--fill-color);\n",
              "      border-bottom-color: var(--fill-color);\n",
              "    }\n",
              "    90% {\n",
              "      border-color: transparent;\n",
              "      border-bottom-color: var(--fill-color);\n",
              "    }\n",
              "  }\n",
              "</style>\n",
              "\n",
              "  <script>\n",
              "    async function quickchart(key) {\n",
              "      const quickchartButtonEl =\n",
              "        document.querySelector('#' + key + ' button');\n",
              "      quickchartButtonEl.disabled = true;  // To prevent multiple clicks.\n",
              "      quickchartButtonEl.classList.add('colab-df-spinner');\n",
              "      try {\n",
              "        const charts = await google.colab.kernel.invokeFunction(\n",
              "            'suggestCharts', [key], {});\n",
              "      } catch (error) {\n",
              "        console.error('Error during call to suggestCharts:', error);\n",
              "      }\n",
              "      quickchartButtonEl.classList.remove('colab-df-spinner');\n",
              "      quickchartButtonEl.classList.add('colab-df-quickchart-complete');\n",
              "    }\n",
              "    (() => {\n",
              "      let quickchartButtonEl =\n",
              "        document.querySelector('#df-69d6c36e-368c-4d23-9dc4-b0d721f5008f button');\n",
              "      quickchartButtonEl.style.display =\n",
              "        google.colab.kernel.accessAllowed ? 'block' : 'none';\n",
              "    })();\n",
              "  </script>\n",
              "</div>\n",
              "\n",
              "  <div id=\"id_5c929db2-6ab4-4f1a-be0d-cee38a6019e3\">\n",
              "    <style>\n",
              "      .colab-df-generate {\n",
              "        background-color: #E8F0FE;\n",
              "        border: none;\n",
              "        border-radius: 50%;\n",
              "        cursor: pointer;\n",
              "        display: none;\n",
              "        fill: #1967D2;\n",
              "        height: 32px;\n",
              "        padding: 0 0 0 0;\n",
              "        width: 32px;\n",
              "      }\n",
              "\n",
              "      .colab-df-generate:hover {\n",
              "        background-color: #E2EBFA;\n",
              "        box-shadow: 0px 1px 2px rgba(60, 64, 67, 0.3), 0px 1px 3px 1px rgba(60, 64, 67, 0.15);\n",
              "        fill: #174EA6;\n",
              "      }\n",
              "\n",
              "      [theme=dark] .colab-df-generate {\n",
              "        background-color: #3B4455;\n",
              "        fill: #D2E3FC;\n",
              "      }\n",
              "\n",
              "      [theme=dark] .colab-df-generate:hover {\n",
              "        background-color: #434B5C;\n",
              "        box-shadow: 0px 1px 3px 1px rgba(0, 0, 0, 0.15);\n",
              "        filter: drop-shadow(0px 1px 2px rgba(0, 0, 0, 0.3));\n",
              "        fill: #FFFFFF;\n",
              "      }\n",
              "    </style>\n",
              "    <button class=\"colab-df-generate\" onclick=\"generateWithVariable('df')\"\n",
              "            title=\"Generate code using this dataframe.\"\n",
              "            style=\"display:none;\">\n",
              "\n",
              "  <svg xmlns=\"http://www.w3.org/2000/svg\" height=\"24px\"viewBox=\"0 0 24 24\"\n",
              "       width=\"24px\">\n",
              "    <path d=\"M7,19H8.4L18.45,9,17,7.55,7,17.6ZM5,21V16.75L18.45,3.32a2,2,0,0,1,2.83,0l1.4,1.43a1.91,1.91,0,0,1,.58,1.4,1.91,1.91,0,0,1-.58,1.4L9.25,21ZM18.45,9,17,7.55Zm-12,3A5.31,5.31,0,0,0,4.9,8.1,5.31,5.31,0,0,0,1,6.5,5.31,5.31,0,0,0,4.9,4.9,5.31,5.31,0,0,0,6.5,1,5.31,5.31,0,0,0,8.1,4.9,5.31,5.31,0,0,0,12,6.5,5.46,5.46,0,0,0,6.5,12Z\"/>\n",
              "  </svg>\n",
              "    </button>\n",
              "    <script>\n",
              "      (() => {\n",
              "      const buttonEl =\n",
              "        document.querySelector('#id_5c929db2-6ab4-4f1a-be0d-cee38a6019e3 button.colab-df-generate');\n",
              "      buttonEl.style.display =\n",
              "        google.colab.kernel.accessAllowed ? 'block' : 'none';\n",
              "\n",
              "      buttonEl.onclick = () => {\n",
              "        google.colab.notebook.generateWithVariable('df');\n",
              "      }\n",
              "      })();\n",
              "    </script>\n",
              "  </div>\n",
              "\n",
              "    </div>\n",
              "  </div>\n"
            ],
            "application/vnd.google.colaboratory.intrinsic+json": {
              "type": "dataframe",
              "variable_name": "df",
              "summary": "{\n  \"name\": \"df\",\n  \"rows\": 1061,\n  \"fields\": [\n    {\n      \"column\": \"name\",\n      \"properties\": {\n        \"dtype\": \"category\",\n        \"num_unique_values\": 279,\n        \"samples\": [\n          \"Hero Xtreme Sports\",\n          \"Hero Honda Passion\",\n          \"TVS Streak\"\n        ],\n        \"semantic_type\": \"\",\n        \"description\": \"\"\n      }\n    },\n    {\n      \"column\": \"selling_price\",\n      \"properties\": {\n        \"dtype\": \"number\",\n        \"std\": 56304,\n        \"min\": 5000,\n        \"max\": 760000,\n        \"num_unique_values\": 130,\n        \"samples\": [\n          72000,\n          160000,\n          26000\n        ],\n        \"semantic_type\": \"\",\n        \"description\": \"\"\n      }\n    },\n    {\n      \"column\": \"year\",\n      \"properties\": {\n        \"dtype\": \"number\",\n        \"std\": 4,\n        \"min\": 1988,\n        \"max\": 2020,\n        \"num_unique_values\": 28,\n        \"samples\": [\n          2012,\n          2003,\n          2020\n        ],\n        \"semantic_type\": \"\",\n        \"description\": \"\"\n      }\n    },\n    {\n      \"column\": \"seller_type\",\n      \"properties\": {\n        \"dtype\": \"category\",\n        \"num_unique_values\": 2,\n        \"samples\": [\n          \"Dealer\",\n          \"Individual\"\n        ],\n        \"semantic_type\": \"\",\n        \"description\": \"\"\n      }\n    },\n    {\n      \"column\": \"owner\",\n      \"properties\": {\n        \"dtype\": \"category\",\n        \"num_unique_values\": 4,\n        \"samples\": [\n          \"2nd owner\",\n          \"4th owner\"\n        ],\n        \"semantic_type\": \"\",\n        \"description\": \"\"\n      }\n    },\n    {\n      \"column\": \"km_driven\",\n      \"properties\": {\n        \"dtype\": \"number\",\n        \"std\": 51623,\n        \"min\": 350,\n        \"max\": 880000,\n        \"num_unique_values\": 304,\n        \"samples\": [\n          19500,\n          11500\n        ],\n        \"semantic_type\": \"\",\n        \"description\": \"\"\n      }\n    },\n    {\n      \"column\": \"ex_showroom_price\",\n      \"properties\": {\n        \"dtype\": \"number\",\n        \"std\": 59975.7930591312,\n        \"min\": 30490.0,\n        \"max\": 1278000.0,\n        \"num_unique_values\": 231,\n        \"samples\": [\n          54000.0,\n          49521.0\n        ],\n        \"semantic_type\": \"\",\n        \"description\": \"\"\n      }\n    }\n  ]\n}"
            }
          },
          "metadata": {},
          "execution_count": 8
        }
      ]
    },
    {
      "cell_type": "markdown",
      "source": [
        "**What is the range of selling price ??**"
      ],
      "metadata": {
        "id": "3iKkqssyaAUM"
      }
    },
    {
      "cell_type": "code",
      "source": [
        "max_price = df['selling_price'].max()\n",
        "min_price = df['selling_price'].min()\n",
        "price_range = max_price - min_price\n",
        "price_range\n"
      ],
      "metadata": {
        "colab": {
          "base_uri": "https://localhost:8080/"
        },
        "id": "DvuxJDoSSUcB",
        "outputId": "0ee4f76a-2f09-4625-e418-27b8634bfbbc"
      },
      "execution_count": 9,
      "outputs": [
        {
          "output_type": "execute_result",
          "data": {
            "text/plain": [
              "755000"
            ]
          },
          "metadata": {},
          "execution_count": 9
        }
      ]
    },
    {
      "cell_type": "markdown",
      "source": [
        "What is the median selling price of bike"
      ],
      "metadata": {
        "id": "CHg4xAulsco9"
      }
    },
    {
      "cell_type": "code",
      "source": [
        "median_selling_price = df['selling_price'].median()\n",
        "median_selling_price"
      ],
      "metadata": {
        "id": "mKOuEqR5V1n2",
        "colab": {
          "base_uri": "https://localhost:8080/"
        },
        "outputId": "eccbf2f9-8ca4-461a-aff6-0a9782614d5b"
      },
      "execution_count": 10,
      "outputs": [
        {
          "output_type": "execute_result",
          "data": {
            "text/plain": [
              "45000.0"
            ]
          },
          "metadata": {},
          "execution_count": 10
        }
      ]
    },
    {
      "cell_type": "markdown",
      "source": [],
      "metadata": {
        "id": "sLg-tcMRJcPM"
      }
    },
    {
      "cell_type": "code",
      "source": [
        "most_common = df['seller_type'].value_counts().idxmax()\n",
        "most_common"
      ],
      "metadata": {
        "colab": {
          "base_uri": "https://localhost:8080/",
          "height": 35
        },
        "id": "bTjNgzx1smfH",
        "outputId": "8c6c7b2a-0d97-4750-a76c-777b4764fc53"
      },
      "execution_count": 11,
      "outputs": [
        {
          "output_type": "execute_result",
          "data": {
            "text/plain": [
              "'Individual'"
            ],
            "application/vnd.google.colaboratory.intrinsic+json": {
              "type": "string"
            }
          },
          "metadata": {},
          "execution_count": 11
        }
      ]
    },
    {
      "cell_type": "code",
      "source": [
        "\n",
        "seller_counts = df['seller_type'].value_counts()\n",
        "\n",
        "print(\"Most common seller type:\", most_common)\n",
        "print(\"\\nAll seller types count:\\n\", seller_counts)"
      ],
      "metadata": {
        "colab": {
          "base_uri": "https://localhost:8080/"
        },
        "id": "EZ_akx4JJegL",
        "outputId": "9c745c0b-dcc9-41d5-8b5c-8663c6c15403"
      },
      "execution_count": 12,
      "outputs": [
        {
          "output_type": "stream",
          "name": "stdout",
          "text": [
            "Most common seller type: Individual\n",
            "\n",
            "All seller types count:\n",
            " seller_type\n",
            "Individual    1055\n",
            "Dealer           6\n",
            "Name: count, dtype: int64\n"
          ]
        }
      ]
    },
    {
      "cell_type": "markdown",
      "source": [
        "How many bikes have driven more than 50000 kilomiter"
      ],
      "metadata": {
        "id": "9FhZQw1gK8tw"
      }
    },
    {
      "cell_type": "code",
      "source": [
        "# Count how many bikes have driven more than 50,000 kilometers\n",
        "bikes_over_50000_km = df[df['km_driven'] > 50000]\n",
        "count_over_50000_km = bikes_over_50000_km.shape[0]\n",
        "\n",
        "count_over_50000_km\n"
      ],
      "metadata": {
        "colab": {
          "base_uri": "https://localhost:8080/"
        },
        "id": "5aDyweviK7Aa",
        "outputId": "38630778-2bdd-4f7c-b4f1-e3a08f5272b9"
      },
      "execution_count": 13,
      "outputs": [
        {
          "output_type": "execute_result",
          "data": {
            "text/plain": [
              "170"
            ]
          },
          "metadata": {},
          "execution_count": 13
        }
      ]
    },
    {
      "cell_type": "markdown",
      "source": [
        "what is the average km_driven value for each ownership type"
      ],
      "metadata": {
        "id": "1zwufiSFMEWG"
      }
    },
    {
      "cell_type": "code",
      "source": [
        "# Group by ownership type and calculate the average km_driven for each\n",
        "average_km_by_owner = df.groupby('owner')['km_driven'].mean().round(2)\n",
        "\n",
        "average_km_by_owner\n"
      ],
      "metadata": {
        "colab": {
          "base_uri": "https://localhost:8080/",
          "height": 241
        },
        "id": "pzMybg3LLZSs",
        "outputId": "3c655feb-8f8c-4e94-8dda-f32ec7afb63f"
      },
      "execution_count": 14,
      "outputs": [
        {
          "output_type": "execute_result",
          "data": {
            "text/plain": [
              "owner\n",
              "1st owner     32816.58\n",
              "2nd owner     39288.99\n",
              "3rd owner     33292.18\n",
              "4th owner    311500.00\n",
              "Name: km_driven, dtype: float64"
            ],
            "text/html": [
              "<div>\n",
              "<style scoped>\n",
              "    .dataframe tbody tr th:only-of-type {\n",
              "        vertical-align: middle;\n",
              "    }\n",
              "\n",
              "    .dataframe tbody tr th {\n",
              "        vertical-align: top;\n",
              "    }\n",
              "\n",
              "    .dataframe thead th {\n",
              "        text-align: right;\n",
              "    }\n",
              "</style>\n",
              "<table border=\"1\" class=\"dataframe\">\n",
              "  <thead>\n",
              "    <tr style=\"text-align: right;\">\n",
              "      <th></th>\n",
              "      <th>km_driven</th>\n",
              "    </tr>\n",
              "    <tr>\n",
              "      <th>owner</th>\n",
              "      <th></th>\n",
              "    </tr>\n",
              "  </thead>\n",
              "  <tbody>\n",
              "    <tr>\n",
              "      <th>1st owner</th>\n",
              "      <td>32816.58</td>\n",
              "    </tr>\n",
              "    <tr>\n",
              "      <th>2nd owner</th>\n",
              "      <td>39288.99</td>\n",
              "    </tr>\n",
              "    <tr>\n",
              "      <th>3rd owner</th>\n",
              "      <td>33292.18</td>\n",
              "    </tr>\n",
              "    <tr>\n",
              "      <th>4th owner</th>\n",
              "      <td>311500.00</td>\n",
              "    </tr>\n",
              "  </tbody>\n",
              "</table>\n",
              "</div><br><label><b>dtype:</b> float64</label>"
            ]
          },
          "metadata": {},
          "execution_count": 14
        }
      ]
    },
    {
      "cell_type": "code",
      "source": [
        "# Calculate total number of bikes\n",
        "total_bikes = df.shape[0]\n",
        "\n",
        "# Filter bikes from 2015 or earlier\n",
        "bikes_2015_or_older = df[df['year'] <= 2015]\n",
        "count_2015_or_older = bikes_2015_or_older.shape[0]\n",
        "\n",
        "# Calculate the proportion\n",
        "proportion_2015_or_older = round((count_2015_or_older / total_bikes) * 100, 2)\n",
        "\n",
        "proportion_2015_or_older\n"
      ],
      "metadata": {
        "colab": {
          "base_uri": "https://localhost:8080/"
        },
        "id": "_qUnx6w1MQKK",
        "outputId": "1a2e9db3-6f01-4959-8c5c-ce0d2f9d641a"
      },
      "execution_count": 15,
      "outputs": [
        {
          "output_type": "execute_result",
          "data": {
            "text/plain": [
              "56.64"
            ]
          },
          "metadata": {},
          "execution_count": 15
        }
      ]
    },
    {
      "cell_type": "markdown",
      "source": [],
      "metadata": {
        "id": "-J42_x57Syz6"
      }
    },
    {
      "cell_type": "code",
      "source": [
        "df = pd.read_csv(\"/content/BIKE DETAILS.csv\")\n",
        "missing_counts = df.isnull().sum()\n",
        "\n",
        "# Percentage of missing values\n",
        "missing_percentage = (missing_counts / len(df)) * 100\n",
        "\n",
        "# Combine into one table\n",
        "missing_summary = pd.DataFrame({\n",
        "    'Missing Values': missing_counts,\n",
        "    'Percentage (%)': missing_percentage.round(2)\n",
        "})\n",
        "\n",
        "print(missing_summary)"
      ],
      "metadata": {
        "colab": {
          "base_uri": "https://localhost:8080/"
        },
        "id": "Y9micpu0M0Tr",
        "outputId": "7e9ef6d8-1e74-4f0d-d5bc-f928080cd34b"
      },
      "execution_count": 16,
      "outputs": [
        {
          "output_type": "stream",
          "name": "stdout",
          "text": [
            "                   Missing Values  Percentage (%)\n",
            "name                            0             0.0\n",
            "selling_price                   0             0.0\n",
            "year                            0             0.0\n",
            "seller_type                     0             0.0\n",
            "owner                           0             0.0\n",
            "km_driven                       0             0.0\n",
            "ex_showroom_price             435            41.0\n"
          ]
        }
      ]
    },
    {
      "cell_type": "markdown",
      "source": [],
      "metadata": {
        "id": "JE33l_4fT0iS"
      }
    },
    {
      "cell_type": "code",
      "source": [
        "max_row = df.loc[df['ex_showroom_price'].idxmax()]\n",
        "print(\"Bike with highest ex_showroom_price:\")\n",
        "print(\"Name:\", max_row['name'])\n",
        "print(\"Price:\", max_row['ex_showroom_price'])"
      ],
      "metadata": {
        "colab": {
          "base_uri": "https://localhost:8080/"
        },
        "id": "setZJRnzSz-a",
        "outputId": "18f25bbf-6263-4165-b9a5-80cc8f9ac14d"
      },
      "execution_count": 17,
      "outputs": [
        {
          "output_type": "stream",
          "name": "stdout",
          "text": [
            "Bike with highest ex_showroom_price:\n",
            "Name: Harley-Davidson Street Bob\n",
            "Price: 1278000.0\n"
          ]
        }
      ]
    },
    {
      "cell_type": "code",
      "source": [
        "import pandas as pd\n",
        "import matplotlib.pyplot as plt\n",
        "import seaborn as sns"
      ],
      "metadata": {
        "id": "NZgu6WN6T1n1"
      },
      "execution_count": 18,
      "outputs": []
    },
    {
      "cell_type": "code",
      "source": [
        "df['owner'] = df['owner'].str.strip().str.lower()\n",
        "first_owner_bikes = df[df['owner'].str.contains(\"1st\")]\n",
        "\n",
        "# Plot\n",
        "plt.figure(figsize=(10, 6))\n",
        "sns.scatterplot(data=first_owner_bikes, x='km_driven', y='selling_price', alpha=0.6)\n",
        "sns.regplot(data=first_owner_bikes, x='km_driven', y='selling_price', scatter=False, color='red')\n",
        "\n",
        "plt.title(\"Relationship between Selling Price and KM Driven (1st Owner Bikes)\")\n",
        "plt.xlabel(\"Kilometers Driven\")\n",
        "plt.ylabel(\"Selling Price (INR)\")\n",
        "plt.grid(True)\n",
        "plt.tight_layout()\n",
        "plt.show()"
      ],
      "metadata": {
        "colab": {
          "base_uri": "https://localhost:8080/",
          "height": 607
        },
        "id": "PnCphk5AVM22",
        "outputId": "463f3d98-d33e-46fb-cb90-7e38804187c5"
      },
      "execution_count": 19,
      "outputs": [
        {
          "output_type": "display_data",
          "data": {
            "text/plain": [
              "<Figure size 1000x600 with 1 Axes>"
            ],
            "image/png": "[encoded data removed]"
          },
          "metadata": {}
        }
      ]
    },
    {
      "cell_type": "code",
      "source": [],
      "metadata": {
        "id": "BvW1sndXVSFK"
      },
      "execution_count": null,
      "outputs": []
    },
    {
      "cell_type": "markdown",
      "source": [],
      "metadata": {
        "id": "6y5ZV1V-VXeJ"
      }
    },
    {
      "cell_type": "code",
      "source": [
        "Q1 = df['km_driven'].quantile(0.25)\n",
        "Q3 = df['km_driven'].quantile(0.75)\n",
        "IQR = Q3 - Q1\n",
        "\n",
        "# Step 2: Calculate bounds\n",
        "lower_bound = Q1 - 1.5 * IQR\n",
        "upper_bound = Q3 + 1.5 * IQR\n",
        "\n",
        "# Step 3: Filter out outliers\n",
        "df_no_outliers = df[(df['km_driven'] >= lower_bound) & (df['km_driven'] <= upper_bound)]\n",
        "\n",
        "# Display the cleaned DataFrame\n",
        "print(df_no_outliers)"
      ],
      "metadata": {
        "colab": {
          "base_uri": "https://localhost:8080/"
        },
        "id": "6unfuAWIVXsK",
        "outputId": "dcb812c0-6538-4130-87ac-4ef455fb263e"
      },
      "execution_count": 20,
      "outputs": [
        {
          "output_type": "stream",
          "name": "stdout",
          "text": [
            "                                     name  selling_price  year seller_type  \\\n",
            "0               Royal Enfield Classic 350         175000  2019  Individual   \n",
            "1                               Honda Dio          45000  2017  Individual   \n",
            "2     Royal Enfield Classic Gunmetal Grey         150000  2018  Individual   \n",
            "3       Yamaha Fazer FI V 2.0 [2016-2018]          65000  2015  Individual   \n",
            "4                   Yamaha SZ [2013-2014]          20000  2011  Individual   \n",
            "...                                   ...            ...   ...         ...   \n",
            "1054                     Hero  CBZ Xtreme          20000  2010  Individual   \n",
            "1055                        Bajaj  ct 100          18000  2017  Individual   \n",
            "1057                     Honda CB twister          16000  2012  Individual   \n",
            "1058                   Bajaj Discover 125          15000  2013  Individual   \n",
            "1059                       Honda CB Shine          12000  2009  Individual   \n",
            "\n",
            "          owner  km_driven  ex_showroom_price  \n",
            "0     1st owner        350                NaN  \n",
            "1     1st owner       5650                NaN  \n",
            "2     1st owner      12000           148114.0  \n",
            "3     1st owner      23000            89643.0  \n",
            "4     2nd owner      21000                NaN  \n",
            "...         ...        ...                ...  \n",
            "1054  1st owner      50000            78700.0  \n",
            "1055  1st owner      35000            32000.0  \n",
            "1057  1st owner      33000            51000.0  \n",
            "1058  2nd owner      35000            57000.0  \n",
            "1059  1st owner      53000            58000.0  \n",
            "\n",
            "[1022 rows x 7 columns]\n"
          ]
        }
      ]
    },
    {
      "cell_type": "code",
      "source": [
        "df['ex_showroom_price'] = pd.to_numeric(df['ex_showroom_price'])\n",
        "\n",
        "# Correlation matrix for numeric columns\n",
        "correlation_matrix = df.corr(numeric_only=True)\n",
        "\n",
        "# Plotting the heatmap\n",
        "plt.figure(figsize=(8, 6))\n",
        "sns.heatmap(correlation_matrix, annot=True, cmap=\"coolwarm\", fmt=\".2f\")\n",
        "plt.title(\"Correlation Matrix Heatmap\")\n",
        "plt.show()"
      ],
      "metadata": {
        "id": "KFIyGMjnWVxD",
        "colab": {
          "base_uri": "https://localhost:8080/",
          "height": 545
        },
        "outputId": "68a1d0db-59e9-4471-a0b6-1466d7122c0c"
      },
      "execution_count": 21,
      "outputs": [
        {
          "output_type": "display_data",
          "data": {
            "text/plain": [
              "<Figure size 800x600 with 2 Axes>"
            ],
            "image/png": "[encoded data removed]"
          },
          "metadata": {}
        }
      ]
    }
  ]
}